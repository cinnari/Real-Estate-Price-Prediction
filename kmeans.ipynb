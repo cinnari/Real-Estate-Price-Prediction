{
 "cells": [
  {
   "cell_type": "code",
   "execution_count": 9,
   "metadata": {},
   "outputs": [
    {
     "name": "stdout",
     "output_type": "stream",
     "text": [
      "  Developer          Building Unit Type  Size        Location      Price  \\\n",
      "4      SMDC  Bloom Residences       1BR    39  Paranaque City  6700000.0   \n",
      "\n",
      "   cluster  distance_to_center  too_good_to_be_true  \n",
      "4        1            1.730226                 True  \n"
     ]
    }
   ],
   "source": [
    "from sklearn.cluster import KMeans\n",
    "from sklearn.preprocessing import StandardScaler, OneHotEncoder\n",
    "from sklearn.compose import ColumnTransformer\n",
    "from sklearn.pipeline import Pipeline\n",
    "import pandas as pd\n",
    "import numpy as np\n",
    "\n",
    "# Load dataset\n",
    "df = pd.read_csv('datasets/condo - Sheet3 (1).csv')\n",
    "\n",
    "# Select features for clustering\n",
    "features = [\n",
    "    'Developer',\n",
    "    'Building',\n",
    "    'Unit Type',\n",
    "    'Size',\n",
    "    'Location',\n",
    "    'Price'  # Assuming 'Price' is also included for anomaly detection\n",
    "]\n",
    "\n",
    "df_cleaned = df[features].dropna()\n",
    "\n",
    "# Define preprocessing for categorical features\n",
    "preprocessor = ColumnTransformer(\n",
    "    transformers=[\n",
    "        ('cat', OneHotEncoder(), ['Developer', 'Building', 'Unit Type', 'Location']),\n",
    "        ('num', StandardScaler(), ['Size'])  # 'Size' is assumed to be numeric\n",
    "    ])\n",
    "\n",
    "# Create a pipeline with preprocessing and K-Means clustering\n",
    "pipeline = Pipeline(steps=[\n",
    "    ('preprocessor', preprocessor),\n",
    "    ('kmeans', KMeans(n_clusters=3, random_state=42))\n",
    "])\n",
    "\n",
    "# Fit the pipeline and predict clusters\n",
    "df_cleaned['cluster'] = pipeline.fit_predict(df_cleaned)\n",
    "\n",
    "# Calculate distance to cluster centers\n",
    "X_scaled = preprocessor.transform(df_cleaned)  # Get transformed features\n",
    "distances = pipeline.named_steps['kmeans'].transform(X_scaled)\n",
    "df_cleaned['distance_to_center'] = np.min(distances, axis=1)\n",
    "\n",
    "# Identify anomalies (properties with large distances and low prices)\n",
    "threshold_distance = np.percentile(df_cleaned['distance_to_center'], 95)  # Top 5% as outliers\n",
    "df_cleaned['too_good_to_be_true'] = (df_cleaned['distance_to_center'] > threshold_distance) & (df_cleaned['Price'] < df_cleaned['Price'].mean())\n",
    "\n",
    "# View flagged properties\n",
    "print(df_cleaned[df_cleaned['too_good_to_be_true']])\n"
   ]
  }
 ],
 "metadata": {
  "kernelspec": {
   "display_name": "Python 3",
   "language": "python",
   "name": "python3"
  },
  "language_info": {
   "codemirror_mode": {
    "name": "ipython",
    "version": 3
   },
   "file_extension": ".py",
   "mimetype": "text/x-python",
   "name": "python",
   "nbconvert_exporter": "python",
   "pygments_lexer": "ipython3",
   "version": "3.12.0"
  }
 },
 "nbformat": 4,
 "nbformat_minor": 2
}
