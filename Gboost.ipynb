{
 "cells": [
  {
   "cell_type": "code",
   "execution_count": 24,
   "metadata": {},
   "outputs": [],
   "source": [
    "# regression_anomaly_detection.py\n",
    "\n",
    "# Importing necessary libraries for regression and anomaly detection\n",
    "import pandas as pd\n",
    "import numpy as np\n",
    "from sklearn.model_selection import train_test_split\n",
    "from sklearn.linear_model import LinearRegression\n",
    "from sklearn.metrics import mean_squared_error\n",
    "from sklearn.ensemble import IsolationForest\n",
    "import seaborn as sns\n",
    "import matplotlib.pyplot as plt\n",
    "from sklearn.preprocessing import LabelEncoder\n"
   ]
  },
  {
   "cell_type": "code",
   "execution_count": 25,
   "metadata": {},
   "outputs": [],
   "source": [
    "# Load the preprocessed data\n",
    "filepath = 'datasets/Housing_v2.csv' \n",
    "data = pd.read_csv(filepath)"
   ]
  },
  {
   "cell_type": "code",
   "execution_count": 26,
   "metadata": {},
   "outputs": [],
   "source": [
    "data = data.dropna()"
   ]
  },
  {
   "cell_type": "code",
   "execution_count": 27,
   "metadata": {},
   "outputs": [],
   "source": [
    "# Identify numerical and non-numerical columns\n",
    "numerical_columns = data.select_dtypes(include=['number']).columns.tolist()\n",
    "non_numerical_columns = data.select_dtypes(exclude=['number']).columns.tolist()\n",
    "\n",
    "X = data[[\n",
    "#    'Description',\n",
    "   'Location',\n",
    "   #'Price',\n",
    "   'Bedrooms',\n",
    "   'Bathrooms',\n",
    "   'Floor Area',\n",
    "   'Land Area',\n",
    "   #'Latitude',\n",
    "   #'Longitude'\n",
    "]] \n",
    "\n",
    "y = data['Price']  # Target variable\n",
    "\n"
   ]
  },
  {
   "cell_type": "code",
   "execution_count": 28,
   "metadata": {},
   "outputs": [
    {
     "name": "stderr",
     "output_type": "stream",
     "text": [
      "C:\\Users\\fabia\\AppData\\Local\\Temp\\ipykernel_23860\\1518733174.py:11: SettingWithCopyWarning: \n",
      "A value is trying to be set on a copy of a slice from a DataFrame.\n",
      "Try using .loc[row_indexer,col_indexer] = value instead\n",
      "\n",
      "See the caveats in the documentation: https://pandas.pydata.org/pandas-docs/stable/user_guide/indexing.html#returning-a-view-versus-a-copy\n",
      "  X[column] = label_encoder.fit_transform(X[column])\n"
     ]
    }
   ],
   "source": [
    "# Identify numerical and non-numerical columns\n",
    "numerical_columns = data.select_dtypes(include=['number']).columns.tolist()\n",
    "non_numerical_columns = data.select_dtypes(exclude=['number']).columns.tolist()\n",
    "\n",
    "# Label encode the non-numeric features\n",
    "label_encoder = LabelEncoder()\n",
    "\n",
    "# Apply label encoding to non-numerical columns\n",
    "for column in non_numerical_columns:\n",
    "    if column in X.columns:  # Check if the column exists in the feature set\n",
    "        X[column] = label_encoder.fit_transform(X[column])\n"
   ]
  },
  {
   "cell_type": "code",
   "execution_count": 29,
   "metadata": {},
   "outputs": [
    {
     "data": {
      "text/plain": [
       "((1055, 5), (844, 5), (211, 5))"
      ]
     },
     "execution_count": 29,
     "metadata": {},
     "output_type": "execute_result"
    }
   ],
   "source": [
    "# Split the dataset into training and testing sets\n",
    "X_train, X_test, y_train, y_test = train_test_split(X, y, test_size=0.2, random_state=42)\n",
    "\n",
    "# Display the shapes of the splits\n",
    "X.shape, X_train.shape, X_test.shape"
   ]
  },
  {
   "cell_type": "markdown",
   "metadata": {},
   "source": [
    "### Random Forest\n"
   ]
  },
  {
   "cell_type": "code",
   "execution_count": 30,
   "metadata": {},
   "outputs": [
    {
     "name": "stdout",
     "output_type": "stream",
     "text": [
      "\n",
      "Train Metrics:\n",
      "MAE: 7116732.0960393\n",
      "MSE: 238961516702648.2\n",
      "RMSE: 15458380.14484856\n",
      "R²: 0.9705703947185024\n",
      "MAPE: 0.3792420848476742\n",
      "\n",
      "Test Metrics:\n",
      "MAE: 10483973.214681957\n",
      "MSE: 593828598929934.5\n",
      "RMSE: 24368598.624663144\n",
      "R²: 0.8899353345532601\n",
      "MAPE: 0.4142765076311706\n"
     ]
    }
   ],
   "source": [
    "from sklearn.ensemble import GradientBoostingRegressor\n",
    "from sklearn.metrics import mean_absolute_error, mean_squared_error, r2_score, mean_absolute_percentage_error\n",
    "import numpy as np\n",
    "\n",
    "# Define and fit the model with default or basic custom settings\n",
    "model = GradientBoostingRegressor(\n",
    "    n_estimators=100,         # Default number of trees\n",
    "    learning_rate=0.1,        # Default learning rate\n",
    "    max_depth=3,              # Default depth\n",
    "    random_state=42           # Ensure reproducibility\n",
    ")\n",
    "\n",
    "# Train the model\n",
    "model.fit(X_train, y_train)\n",
    "\n",
    "# Make predictions\n",
    "y_train_pred = model.predict(X_train)\n",
    "y_test_pred = model.predict(X_test)\n",
    "\n",
    "# Train evaluation metrics\n",
    "train_mae = mean_absolute_error(y_train, y_train_pred)\n",
    "train_mse = mean_squared_error(y_train, y_train_pred)\n",
    "train_rmse = np.sqrt(train_mse)\n",
    "train_r2 = r2_score(y_train, y_train_pred)\n",
    "train_mape = mean_absolute_percentage_error(y_train, y_train_pred)\n",
    "\n",
    "# Test evaluation metrics\n",
    "test_mae = mean_absolute_error(y_test, y_test_pred)\n",
    "test_mse = mean_squared_error(y_test, y_test_pred)\n",
    "test_rmse = np.sqrt(test_mse)\n",
    "test_r2 = r2_score(y_test, y_test_pred)\n",
    "test_mape = mean_absolute_percentage_error(y_test, y_test_pred)\n",
    "\n",
    "# Print metrics\n",
    "print(\"\\nTrain Metrics:\")\n",
    "print(f\"MAE: {train_mae}\")\n",
    "print(f\"MSE: {train_mse}\")\n",
    "print(f\"RMSE: {train_rmse}\")\n",
    "print(f\"R²: {train_r2}\")\n",
    "print(f\"MAPE: {train_mape}\")\n",
    "\n",
    "print(\"\\nTest Metrics:\")\n",
    "print(f\"MAE: {test_mae}\")\n",
    "print(f\"MSE: {test_mse}\")\n",
    "print(f\"RMSE: {test_rmse}\")\n",
    "print(f\"R²: {test_r2}\")\n",
    "print(f\"MAPE: {test_mape}\")\n"
   ]
  },
  {
   "cell_type": "code",
   "execution_count": 31,
   "metadata": {},
   "outputs": [
    {
     "name": "stdout",
     "output_type": "stream",
     "text": [
      "      Predicted Price  Actual Price         Error\n",
      "337      4.833130e+06     4079000.0  7.541297e+05\n",
      "1125     1.852134e+07    12000000.0  6.521338e+06\n",
      "1148     3.806924e+08   460000000.0 -7.930759e+07\n",
      "1416     5.084078e+06     3500000.0  1.584078e+06\n",
      "120      4.819979e+06     3970000.0  8.499794e+05\n"
     ]
    }
   ],
   "source": [
    "# Sample data: predicted and actual prices\n",
    "predicted_prices = model.predict(X_test)  # Get the predicted prices from the model\n",
    "actual_prices = y_test  # Actual prices from the test set\n",
    "\n",
    "# Create a DataFrame to compare predicted vs actual prices\n",
    "comparison_df = pd.DataFrame({\n",
    "    'Predicted Price': predicted_prices,\n",
    "    'Actual Price': actual_prices\n",
    "})\n",
    "\n",
    "# Optionally, calculate the error (difference between predicted and actual prices)\n",
    "comparison_df['Error'] = comparison_df['Predicted Price'] - comparison_df['Actual Price']\n",
    "\n",
    "# Print the first few rows of the comparison\n",
    "print(comparison_df.head())\n",
    "\n",
    "# Optionally, save it to a CSV for further analysis\n",
    "comparison_df.to_csv('predicted_vs_actual_prices.csv', index=False)\n"
   ]
  },
  {
   "cell_type": "code",
   "execution_count": 32,
   "metadata": {},
   "outputs": [],
   "source": [
    "# # Visualizing the predicted vs actual prices\n",
    "# plt.figure(figsize=(10, 6))\n",
    "# plt.scatter(y_test, y_pred, color='blue')\n",
    "# plt.plot([min(y_test), max(y_test)], [min(y_test), max(y_test)], color='red', linewidth=2)\n",
    "# plt.title('Predicted vs Actual Prices')\n",
    "# plt.xlabel('Actual Prices')\n",
    "# plt.ylabel('Predicted Prices')\n",
    "# plt.show()\n"
   ]
  },
  {
   "cell_type": "code",
   "execution_count": 33,
   "metadata": {},
   "outputs": [],
   "source": [
    "# # Anomaly detection using Isolation Forest\n",
    "# iso_forest = IsolationForest(contamination=0.05, random_state=42)\n",
    "# outliers = iso_forest.fit_predict(X)\n",
    "\n",
    "# # Marking anomalies as -1 and normal points as 1\n",
    "# data['anomaly'] = outliers\n",
    "\n",
    "# # Display rows with anomalies\n",
    "# anomalies = data[data['anomaly'] == -1]\n",
    "# anomalies.head()\n"
   ]
  },
  {
   "cell_type": "code",
   "execution_count": 34,
   "metadata": {},
   "outputs": [],
   "source": [
    "# # Visualizing anomalies in the price vs square footage scatter plot\n",
    "# plt.figure(figsize=(10, 6))\n",
    "# sns.scatterplot(x=data['square_footage'], y=data['price'], hue=data['anomaly'], palette='coolwarm', legend=False)\n",
    "# plt.title('Price vs Square Footage with Anomalies')\n",
    "# plt.xlabel('Square Footage')\n",
    "# plt.ylabel('Price')\n",
    "# plt.show()\n"
   ]
  }
 ],
 "metadata": {
  "kernelspec": {
   "display_name": "Python 3",
   "language": "python",
   "name": "python3"
  },
  "language_info": {
   "codemirror_mode": {
    "name": "ipython",
    "version": 3
   },
   "file_extension": ".py",
   "mimetype": "text/x-python",
   "name": "python",
   "nbconvert_exporter": "python",
   "pygments_lexer": "ipython3",
   "version": "3.12.0"
  }
 },
 "nbformat": 4,
 "nbformat_minor": 2
}
